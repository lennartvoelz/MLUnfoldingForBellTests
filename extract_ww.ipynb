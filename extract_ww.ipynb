{
 "cells": [
  {
   "cell_type": "code",
   "execution_count": 17,
   "id": "f8648e0a",
   "metadata": {},
   "outputs": [],
   "source": [
    "import pandas as pd\n",
    "import numpy as np\n",
    "\n",
    "df = pd.read_csv(\"data/ww_1M_MG5.csv\")"
   ]
  },
  {
   "cell_type": "code",
   "execution_count": 18,
   "id": "ae554548",
   "metadata": {},
   "outputs": [
    {
     "name": "stdout",
     "output_type": "stream",
     "text": [
      "Index(['e_pt', 'e_eta', 'e_phi', 'mu_pt', 'mu_eta', 'mu_phi', 'met', 'met_eta',\n",
      "       'met_phi', 'truth_e_pt', 'truth_e_eta', 'truth_e_phi', 'truth_mu_pt',\n",
      "       'truth_mu_eta', 'truth_mu_phi', 'truth_ve_pt', 'truth_ve_eta',\n",
      "       'truth_ve_phi', 'truth_vmu_pt', 'truth_vmu_eta', 'truth_vmu_phi',\n",
      "       'case'],\n",
      "      dtype='object')\n"
     ]
    }
   ],
   "source": [
    "print(df.columns)"
   ]
  },
  {
   "cell_type": "code",
   "execution_count": 19,
   "id": "762f9e14",
   "metadata": {},
   "outputs": [],
   "source": [
    "# cast 0.0 to np.nan\n",
    "df = df.replace(0.0, np.nan)\n",
    "# drop rows with more than 2 NaN values\n",
    "df = df.dropna(thresh=len(df.columns) - 2)"
   ]
  },
  {
   "cell_type": "code",
   "execution_count": 20,
   "id": "8439c303",
   "metadata": {},
   "outputs": [],
   "source": [
    "from src.utils.change_of_coordinates import exp_to_four_vec\n",
    "\n",
    "df[['p_l_1_E', 'p_l_1_x', 'p_l_1_y', 'p_l_1_z']] = df.apply(lambda row: pd.Series(exp_to_four_vec(row['truth_e_pt'], row['truth_e_eta'], row['truth_e_phi'], 0.000511)), axis=1)\n",
    "df[['p_l_2_E', 'p_l_2_x', 'p_l_2_y', 'p_l_2_z']] = df.apply(lambda row: pd.Series(exp_to_four_vec(row['truth_mu_pt'], row['truth_mu_eta'], row['truth_mu_phi'], 0.105658)), axis=1)"
   ]
  },
  {
   "cell_type": "code",
   "execution_count": 21,
   "id": "8579ed37",
   "metadata": {},
   "outputs": [],
   "source": [
    "df[\"mpx\"] = df.apply(lambda row: row[\"met\"] * np.cos(row[\"met_phi\"]), axis=1)\n",
    "df[\"mpy\"] = df.apply(lambda row: row[\"met\"] * np.sin(row[\"met_phi\"]), axis=1)"
   ]
  },
  {
   "cell_type": "code",
   "execution_count": 22,
   "id": "fc43c47f",
   "metadata": {},
   "outputs": [],
   "source": [
    "df[['p_v_1_E', 'p_v_1_x', 'p_v_1_y', 'p_v_1_z']] = df.apply(lambda row: pd.Series(exp_to_four_vec(row['truth_ve_pt'], row['truth_ve_eta'], row['truth_ve_phi'], 0.0)), axis=1)\n",
    "df[['p_v_2_E', 'p_v_2_x', 'p_v_2_y', 'p_v_2_z']] = df.apply(lambda row: pd.Series(exp_to_four_vec(row['truth_vmu_pt'], row['truth_vmu_eta'], row['truth_vmu_phi'], 0.0)), axis=1)"
   ]
  },
  {
   "cell_type": "code",
   "execution_count": 23,
   "id": "42ec6e13",
   "metadata": {},
   "outputs": [],
   "source": [
    "df.drop(columns=['truth_e_pt', 'truth_e_eta', 'truth_e_phi', 'truth_mu_pt', 'truth_mu_eta', 'truth_mu_phi',\n",
    "                 'truth_ve_pt', 'truth_ve_eta', 'truth_ve_phi', 'truth_vmu_pt', 'truth_vmu_eta', 'truth_vmu_phi',\n",
    "                 'met', 'met_phi', 'case', 'e_pt', 'e_eta', 'e_phi', 'mu_pt', 'mu_eta', 'mu_phi'], inplace=True)"
   ]
  },
  {
   "cell_type": "code",
   "execution_count": 24,
   "id": "74a2f7f4",
   "metadata": {},
   "outputs": [],
   "source": [
    "df.to_csv(\"data/ww_final.csv\", index=False)"
   ]
  }
 ],
 "metadata": {
  "kernelspec": {
   "display_name": "tf_gpu",
   "language": "python",
   "name": "python3"
  },
  "language_info": {
   "codemirror_mode": {
    "name": "ipython",
    "version": 3
   },
   "file_extension": ".py",
   "mimetype": "text/x-python",
   "name": "python",
   "nbconvert_exporter": "python",
   "pygments_lexer": "ipython3",
   "version": "3.12.3"
  }
 },
 "nbformat": 4,
 "nbformat_minor": 5
}
