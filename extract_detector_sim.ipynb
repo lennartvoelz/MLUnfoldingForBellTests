{
 "cells": [
  {
   "cell_type": "code",
   "execution_count": 2,
   "metadata": {},
   "outputs": [],
   "source": [
    "import pandas as pd"
   ]
  },
  {
   "cell_type": "code",
   "execution_count": 3,
   "metadata": {},
   "outputs": [],
   "source": [
    "df = pd.read_csv(\"data/hww_simulated.csv\")"
   ]
  },
  {
   "cell_type": "code",
   "execution_count": 4,
   "metadata": {},
   "outputs": [],
   "source": [
    "df.drop(columns=[\"Particle.PT\", \"Particle.Eta\", \"Particle.Phi\"], inplace=True)"
   ]
  },
  {
   "cell_type": "code",
   "execution_count": 5,
   "metadata": {},
   "outputs": [],
   "source": [
    "df[\"Particle.PID\"] = df[\"Particle.PID\"].str[18:20]"
   ]
  },
  {
   "cell_type": "code",
   "execution_count": 6,
   "metadata": {},
   "outputs": [],
   "source": [
    "df[\"Particle.PID\"] = df[\"Particle.PID\"].astype(int)"
   ]
  },
  {
   "cell_type": "code",
   "execution_count": 7,
   "metadata": {},
   "outputs": [],
   "source": [
    "for col in df.columns[1:]:\n",
    "    df[col] = df[col].str.replace(\"[\", \"\")\n",
    "    df[col] = df[col].str.replace(\"]\", \"\")"
   ]
  },
  {
   "cell_type": "code",
   "execution_count": 8,
   "metadata": {},
   "outputs": [
    {
     "name": "stdout",
     "output_type": "stream",
     "text": [
      "   Particle.PID Electron.PT Electron.Eta Electron.Phi    Muon.PT     Muon.Eta  \\\n",
      "0            13    44.94672   0.21702203    1.4967911  19.728607  -0.76609546   \n",
      "1            11   32.669098   0.28524885     -0.93204  19.569141     0.722224   \n",
      "2            11                                                                 \n",
      "3            13                                                                 \n",
      "4            13                                        25.512314   -1.6375457   \n",
      "\n",
      "     Muon.Phi MissingET.MET MissingET.Eta MissingET.Phi  \n",
      "0  -0.8761875     33.763885    0.21087119     -2.068956  \n",
      "1   1.1187549     29.574873   -0.76974607      2.856485  \n",
      "2                        0.            0.            0.  \n",
      "3                 52.082302     2.2248452    -1.8333149  \n",
      "4   1.6149265     24.645163     1.7733337    -1.1305432  \n"
     ]
    }
   ],
   "source": [
    "print(df.head())"
   ]
  },
  {
   "cell_type": "code",
   "execution_count": 9,
   "metadata": {},
   "outputs": [],
   "source": [
    "df.to_csv(\"data/hww_simulated_clean.csv\", index=False)"
   ]
  },
  {
   "cell_type": "code",
   "execution_count": 10,
   "metadata": {},
   "outputs": [],
   "source": [
    "df = pd.read_csv(\"data/hww_simulated_clean.csv\")"
   ]
  },
  {
   "cell_type": "code",
   "execution_count": 11,
   "metadata": {},
   "outputs": [
    {
     "name": "stdout",
     "output_type": "stream",
     "text": [
      "   Particle.PID  Electron.PT  Electron.Eta  Electron.Phi    Muon.PT  Muon.Eta  \\\n",
      "0            13    44.946720      0.217022      1.496791  19.728607 -0.766095   \n",
      "1            11    32.669098      0.285249     -0.932040  19.569141  0.722224   \n",
      "2            11          NaN           NaN           NaN        NaN       NaN   \n",
      "3            13          NaN           NaN           NaN        NaN       NaN   \n",
      "4            13          NaN           NaN           NaN  25.512314 -1.637546   \n",
      "\n",
      "   Muon.Phi  MissingET.MET  MissingET.Eta  MissingET.Phi  Electron.E  \\\n",
      "0 -0.876188      33.763885       0.210871      -2.068956   46.009344   \n",
      "1  1.118755      29.574873      -0.769746       2.856485   34.007226   \n",
      "2       NaN       0.000000       0.000000       0.000000         NaN   \n",
      "3       NaN      52.082302       2.224845      -1.833315         NaN   \n",
      "4  1.614926      24.645163       1.773334      -1.130543         NaN   \n",
      "\n",
      "   Electron.px  Electron.py  Electron.pz     Muon.E    Muon.px    Muon.py  \\\n",
      "0     3.323257    44.823695     9.831179  25.806953  12.627984 -15.157571   \n",
      "1    19.477232   -26.227989     9.445712  24.898808   8.547856  17.603563   \n",
      "2          NaN          NaN          NaN        NaN        NaN        NaN   \n",
      "3          NaN          NaN          NaN        NaN        NaN        NaN   \n",
      "4          NaN          NaN          NaN  68.079557  -1.125497  25.487476   \n",
      "\n",
      "     Muon.pz  \n",
      "0 -16.636398  \n",
      "1  15.394421  \n",
      "2        NaN  \n",
      "3        NaN  \n",
      "4 -63.118434  \n"
     ]
    }
   ],
   "source": [
    "from src.utils.change_of_coordinates import exp_to_four_vec\n",
    "\n",
    "df[['Electron.E', 'Electron.px', 'Electron.py', 'Electron.pz']] = df.apply(\n",
    "    lambda row: pd.Series(exp_to_four_vec(row['Electron.PT'], row['Electron.Eta'], row['Electron.Phi'], 0.000511)), axis=1)\n",
    "\n",
    "df[['Muon.E', 'Muon.px', 'Muon.py', 'Muon.pz']] = df.apply(\n",
    "    lambda row: pd.Series(exp_to_four_vec(row['Muon.PT'], row['Muon.Eta'], row['Muon.Phi'], 0.10566)), axis=1)\n",
    "\n",
    "print(df.head())"
   ]
  },
  {
   "cell_type": "code",
   "execution_count": 12,
   "metadata": {},
   "outputs": [],
   "source": [
    "# if \"Particle.PID\" == 11, create a new columns lep1 with the values of Electron\n",
    "# if \"Particle.PID\" == 13, create a new columns lep1 with the values of Muon\n",
    "# if \"Particle.PID\" == 11, create a new columns lep2 with the values of Muon\n",
    "# if \"Particle.PID\" == 13, create a new columns lep2 with the values of Electron\n",
    "\n",
    "df[\"p_l_1_E\"] = df.apply(lambda row: row[\"Electron.E\"] if row[\"Particle.PID\"] == 11 else row[\"Muon.E\"], axis=1)\n",
    "df[\"p_l_1_x\"] = df.apply(lambda row: row[\"Electron.px\"] if row[\"Particle.PID\"] == 11 else row[\"Muon.px\"], axis=1)\n",
    "df[\"p_l_1_y\"] = df.apply(lambda row: row[\"Electron.py\"] if row[\"Particle.PID\"] == 11 else row[\"Muon.py\"], axis=1)\n",
    "df[\"p_l_1_z\"] = df.apply(lambda row: row[\"Electron.pz\"] if row[\"Particle.PID\"] == 11 else row[\"Muon.pz\"], axis=1)\n",
    "\n",
    "df[\"p_l_2_E\"] = df.apply(lambda row: row[\"Muon.E\"] if row[\"Particle.PID\"] == 11 else row[\"Electron.E\"], axis=1)\n",
    "df[\"p_l_2_x\"] = df.apply(lambda row: row[\"Muon.px\"] if row[\"Particle.PID\"] == 11 else row[\"Electron.px\"], axis=1)\n",
    "df[\"p_l_2_y\"] = df.apply(lambda row: row[\"Muon.py\"] if row[\"Particle.PID\"] == 11 else row[\"Electron.py\"], axis=1)\n",
    "df[\"p_l_2_z\"] = df.apply(lambda row: row[\"Muon.pz\"] if row[\"Particle.PID\"] == 11 else row[\"Electron.pz\"], axis=1)\n",
    "\n",
    "df.drop(columns=[\"Electron.E\", \"Electron.px\", \"Electron.py\", \"Electron.pz\", \"Muon.E\", \"Muon.px\", \"Muon.py\", \"Muon.pz\", \"Particle.PID\", \"Electron.PT\", \"Electron.Eta\", \"Electron.Phi\", \"Muon.PT\", \"Muon.Eta\", \"Muon.Phi\"], inplace=True)"
   ]
  },
  {
   "cell_type": "code",
   "execution_count": 13,
   "metadata": {},
   "outputs": [
    {
     "name": "stdout",
     "output_type": "stream",
     "text": [
      "   MissingET.MET  MissingET.Eta  MissingET.Phi    p_l_1_E    p_l_1_x  \\\n",
      "0      33.763885       0.210871      -2.068956  25.806953  12.627984   \n",
      "1      29.574873      -0.769746       2.856485  34.007226  19.477232   \n",
      "2       0.000000       0.000000       0.000000        NaN        NaN   \n",
      "3      52.082302       2.224845      -1.833315        NaN        NaN   \n",
      "4      24.645163       1.773334      -1.130543  68.079557  -1.125497   \n",
      "\n",
      "     p_l_1_y    p_l_1_z    p_l_2_E   p_l_2_x    p_l_2_y    p_l_2_z  \n",
      "0 -15.157571 -16.636398  46.009344  3.323257  44.823695   9.831179  \n",
      "1 -26.227989   9.445712  24.898808  8.547856  17.603563  15.394421  \n",
      "2        NaN        NaN        NaN       NaN        NaN        NaN  \n",
      "3        NaN        NaN        NaN       NaN        NaN        NaN  \n",
      "4  25.487476 -63.118434        NaN       NaN        NaN        NaN  \n"
     ]
    }
   ],
   "source": [
    "print(df.head())"
   ]
  },
  {
   "cell_type": "code",
   "execution_count": 14,
   "metadata": {},
   "outputs": [],
   "source": [
    "import numpy as np\n",
    "\n",
    "df[\"mpx\"] = df.apply(lambda row: row[\"MissingET.MET\"] * np.cos(row[\"MissingET.Phi\"]), axis=1)\n",
    "df[\"mpy\"] = df.apply(lambda row: row[\"MissingET.MET\"] * np.sin(row[\"MissingET.Phi\"]), axis=1)"
   ]
  },
  {
   "cell_type": "code",
   "execution_count": 15,
   "metadata": {},
   "outputs": [],
   "source": [
    "df.drop(columns=[\"MissingET.MET\", \"MissingET.Phi\", \"MissingET.Eta\"], inplace=True)"
   ]
  },
  {
   "cell_type": "code",
   "execution_count": 16,
   "metadata": {},
   "outputs": [],
   "source": [
    "df_truth = pd.read_csv(\"data/df_final.csv\")\n",
    "\n",
    "df[\"p_v_1_E\"] = df_truth[\"p_v_1_E\"]\n",
    "df[\"p_v_1_x\"] = df_truth[\"p_v_1_x\"]\n",
    "df[\"p_v_1_y\"] = df_truth[\"p_v_1_y\"]\n",
    "df[\"p_v_1_z\"] = df_truth[\"p_v_1_z\"]\n",
    "\n",
    "df[\"p_v_2_E\"] = df_truth[\"p_v_2_E\"]\n",
    "df[\"p_v_2_x\"] = df_truth[\"p_v_2_x\"]\n",
    "df[\"p_v_2_y\"] = df_truth[\"p_v_2_y\"]\n",
    "df[\"p_v_2_z\"] = df_truth[\"p_v_2_z\"]"
   ]
  },
  {
   "cell_type": "code",
   "execution_count": 17,
   "metadata": {},
   "outputs": [
    {
     "name": "stdout",
     "output_type": "stream",
     "text": [
      "     p_l_1_E    p_l_1_x    p_l_1_y    p_l_1_z    p_l_2_E   p_l_2_x    p_l_2_y  \\\n",
      "0  25.806953  12.627984 -15.157571 -16.636398  46.009344  3.323257  44.823695   \n",
      "1  34.007226  19.477232 -26.227989   9.445712  24.898808  8.547856  17.603563   \n",
      "2   0.000000   0.000000   0.000000   0.000000   0.000000  0.000000   0.000000   \n",
      "3   0.000000   0.000000   0.000000   0.000000   0.000000  0.000000   0.000000   \n",
      "4  68.079557  -1.125497  25.487476 -63.118434   0.000000  0.000000   0.000000   \n",
      "\n",
      "     p_l_2_z        mpx        mpy     p_v_1_E    p_v_1_x    p_v_1_y  \\\n",
      "0   9.831179 -16.132711 -29.660336   24.155747  -9.751504   1.652740   \n",
      "1  15.394421 -28.380976   8.318251  104.635343 -33.046353  -6.449344   \n",
      "2   0.000000   0.000000   0.000000  454.164621  10.101091  36.836577   \n",
      "3   0.000000 -13.516069 -50.297933   11.520140   0.308590  -9.489610   \n",
      "4   0.000000  10.502991 -22.295094  518.828622   6.080513 -24.439560   \n",
      "\n",
      "      p_v_1_z     p_v_2_E    p_v_2_x    p_v_2_y     p_v_2_z  \n",
      "0  -22.038074   32.633243  -5.192401 -31.834253   -4.954573  \n",
      "1   99.070175   23.813755   6.082861  15.858921   16.690967  \n",
      "2 -452.555563   44.485661  -1.417896   6.964154  -43.914282  \n",
      "3   -6.524239  209.116425 -13.208733 -42.939242 -204.233764  \n",
      "4 -518.217014  136.289820   3.973394   1.038273 -136.227931  \n"
     ]
    }
   ],
   "source": [
    "# Cast NaN to 0\n",
    "df.fillna(0, inplace=True)\n",
    "\n",
    "df.to_csv(\"data/hww_simulated_omnifold.csv\", index=False)\n",
    "\n",
    "print(df.head())"
   ]
  }
 ],
 "metadata": {
  "kernelspec": {
   "display_name": "tf_gpu",
   "language": "python",
   "name": "python3"
  },
  "language_info": {
   "codemirror_mode": {
    "name": "ipython",
    "version": 3
   },
   "file_extension": ".py",
   "mimetype": "text/x-python",
   "name": "python",
   "nbconvert_exporter": "python",
   "pygments_lexer": "ipython3",
   "version": "3.12.3"
  }
 },
 "nbformat": 4,
 "nbformat_minor": 2
}
